{
 "cells": [
  {
   "cell_type": "code",
   "execution_count": 1,
   "metadata": {
    "_cell_guid": "dbc0c9d4-51a4-41c8-b290-c8f9ad8bb17f",
    "_uuid": "6b52c69d-b441-46ab-a9eb-e105798ba4c6"
   },
   "outputs": [
    {
     "name": "stderr",
     "output_type": "stream",
     "text": [
      "Using TensorFlow backend.\n",
      "/opt/conda/lib/python3.6/site-packages/tensorflow/python/framework/dtypes.py:516: FutureWarning: Passing (type, 1) or '1type' as a synonym of type is deprecated; in a future version of numpy, it will be understood as (type, (1,)) / '(1,)type'.\n",
      "  _np_qint8 = np.dtype([(\"qint8\", np.int8, 1)])\n",
      "/opt/conda/lib/python3.6/site-packages/tensorflow/python/framework/dtypes.py:517: FutureWarning: Passing (type, 1) or '1type' as a synonym of type is deprecated; in a future version of numpy, it will be understood as (type, (1,)) / '(1,)type'.\n",
      "  _np_quint8 = np.dtype([(\"quint8\", np.uint8, 1)])\n",
      "/opt/conda/lib/python3.6/site-packages/tensorflow/python/framework/dtypes.py:518: FutureWarning: Passing (type, 1) or '1type' as a synonym of type is deprecated; in a future version of numpy, it will be understood as (type, (1,)) / '(1,)type'.\n",
      "  _np_qint16 = np.dtype([(\"qint16\", np.int16, 1)])\n",
      "/opt/conda/lib/python3.6/site-packages/tensorflow/python/framework/dtypes.py:519: FutureWarning: Passing (type, 1) or '1type' as a synonym of type is deprecated; in a future version of numpy, it will be understood as (type, (1,)) / '(1,)type'.\n",
      "  _np_quint16 = np.dtype([(\"quint16\", np.uint16, 1)])\n",
      "/opt/conda/lib/python3.6/site-packages/tensorflow/python/framework/dtypes.py:520: FutureWarning: Passing (type, 1) or '1type' as a synonym of type is deprecated; in a future version of numpy, it will be understood as (type, (1,)) / '(1,)type'.\n",
      "  _np_qint32 = np.dtype([(\"qint32\", np.int32, 1)])\n",
      "/opt/conda/lib/python3.6/site-packages/tensorflow/python/framework/dtypes.py:525: FutureWarning: Passing (type, 1) or '1type' as a synonym of type is deprecated; in a future version of numpy, it will be understood as (type, (1,)) / '(1,)type'.\n",
      "  np_resource = np.dtype([(\"resource\", np.ubyte, 1)])\n",
      "/opt/conda/lib/python3.6/site-packages/tensorboard/compat/tensorflow_stub/dtypes.py:541: FutureWarning: Passing (type, 1) or '1type' as a synonym of type is deprecated; in a future version of numpy, it will be understood as (type, (1,)) / '(1,)type'.\n",
      "  _np_qint8 = np.dtype([(\"qint8\", np.int8, 1)])\n",
      "/opt/conda/lib/python3.6/site-packages/tensorboard/compat/tensorflow_stub/dtypes.py:542: FutureWarning: Passing (type, 1) or '1type' as a synonym of type is deprecated; in a future version of numpy, it will be understood as (type, (1,)) / '(1,)type'.\n",
      "  _np_quint8 = np.dtype([(\"quint8\", np.uint8, 1)])\n",
      "/opt/conda/lib/python3.6/site-packages/tensorboard/compat/tensorflow_stub/dtypes.py:543: FutureWarning: Passing (type, 1) or '1type' as a synonym of type is deprecated; in a future version of numpy, it will be understood as (type, (1,)) / '(1,)type'.\n",
      "  _np_qint16 = np.dtype([(\"qint16\", np.int16, 1)])\n",
      "/opt/conda/lib/python3.6/site-packages/tensorboard/compat/tensorflow_stub/dtypes.py:544: FutureWarning: Passing (type, 1) or '1type' as a synonym of type is deprecated; in a future version of numpy, it will be understood as (type, (1,)) / '(1,)type'.\n",
      "  _np_quint16 = np.dtype([(\"quint16\", np.uint16, 1)])\n",
      "/opt/conda/lib/python3.6/site-packages/tensorboard/compat/tensorflow_stub/dtypes.py:545: FutureWarning: Passing (type, 1) or '1type' as a synonym of type is deprecated; in a future version of numpy, it will be understood as (type, (1,)) / '(1,)type'.\n",
      "  _np_qint32 = np.dtype([(\"qint32\", np.int32, 1)])\n",
      "/opt/conda/lib/python3.6/site-packages/tensorboard/compat/tensorflow_stub/dtypes.py:550: FutureWarning: Passing (type, 1) or '1type' as a synonym of type is deprecated; in a future version of numpy, it will be understood as (type, (1,)) / '(1,)type'.\n",
      "  np_resource = np.dtype([(\"resource\", np.ubyte, 1)])\n"
     ]
    }
   ],
   "source": [
    "from keras.applications import VGG16\n",
    "from keras.preprocessing.image import ImageDataGenerator\n",
    "from keras import optimizers\n",
    "from keras.models import Sequential, Model \n",
    "from keras.layers import Dropout, Flatten, Dense, GlobalAveragePooling2D\n",
    "from keras import backend as k \n",
    "from keras.callbacks import ModelCheckpoint, LearningRateScheduler, TensorBoard, EarlyStopping\n",
    "import os\n",
    "import cv2\n",
    "from keras.preprocessing.image import load_img\n",
    "from keras.preprocessing.image import img_to_array\n",
    "from sklearn.utils import shuffle\n",
    "import numpy as np\n",
    "from sklearn.model_selection import train_test_split"
   ]
  },
  {
   "cell_type": "code",
   "execution_count": 2,
   "metadata": {},
   "outputs": [],
   "source": [
    "class_names = ['men', 'women']\n",
    "class_names_label = {'men': 0,\n",
    "                    'women' : 1\n",
    "                    }\n",
    "nb_classes = 2"
   ]
  },
  {
   "cell_type": "code",
   "execution_count": 3,
   "metadata": {},
   "outputs": [],
   "source": [
    "size = (200,200)\n",
    "\n",
    "output = []\n",
    "directory = \"../input/healthsignzgenderclassification/data/Training Set\"\n",
    "\n",
    "images = []\n",
    "labels = []\n",
    "for folder in os.listdir(directory):\n",
    "    \n",
    "    curr_label = class_names_label[folder]\n",
    "    for file in os.listdir(directory + \"/\" + folder):\n",
    "        img_path = directory + \"/\" + folder + \"/\" + file\n",
    "        if not file.endswith('gif'): \n",
    "            curr_img = cv2.imread(img_path)\n",
    "            curr_img = cv2.resize(curr_img, size)\n",
    "        else:\n",
    "            curr_img = load_img(img_path, target_size=size)\n",
    "            curr_img = img_to_array(curr_img)\n",
    "        images.append(curr_img)\n",
    "        labels.append(curr_label)\n",
    "images, labels = shuffle(images, labels)     ### Shuffle the data !!!\n",
    "images = np.array(images, dtype = 'float32') ### Our images\n",
    "labels = np.array(labels, dtype = 'int32')   ### From 0 to num_classes-1!"
   ]
  },
  {
   "cell_type": "code",
   "execution_count": 4,
   "metadata": {},
   "outputs": [],
   "source": [
    "images = np.array(images) / 255.0"
   ]
  },
  {
   "cell_type": "code",
   "execution_count": 5,
   "metadata": {},
   "outputs": [],
   "source": [
    "(trainX, testX, trainY, testY) = train_test_split(images, labels, test_size=0.2, random_state=50)"
   ]
  },
  {
   "cell_type": "code",
   "execution_count": 6,
   "metadata": {},
   "outputs": [],
   "source": [
    "trainX = np.array(trainX).reshape(-1, 200,200,3)\n",
    "trainY = np.array(trainY)\n",
    "testX = np.array(testX).reshape(-1, 200,200,3)\n",
    "testY = np.array(testY)"
   ]
  },
  {
   "cell_type": "code",
   "execution_count": 7,
   "metadata": {},
   "outputs": [
    {
     "name": "stdout",
     "output_type": "stream",
     "text": [
      "Downloading data from https://github.com/fchollet/deep-learning-models/releases/download/v0.1/vgg16_weights_tf_dim_ordering_tf_kernels_notop.h5\n",
      "58892288/58889256 [==============================] - 3s 0us/step\n"
     ]
    }
   ],
   "source": [
    "model = VGG16(weights = \"imagenet\", include_top=False, input_shape = (200, 200, 3))"
   ]
  },
  {
   "cell_type": "code",
   "execution_count": 8,
   "metadata": {},
   "outputs": [],
   "source": [
    "#Adding custom Layers \n",
    "x = model.output\n",
    "x = Flatten()(x)\n",
    "#x = Dense(512, activation=\"relu\")(x)\n",
    "#x = Dropout(0.25)(x)\n",
    "#x = Dense(256, activation=\"relu\")(x)\n",
    "predictions = Dense(1, activation=\"sigmoid\")(x)"
   ]
  },
  {
   "cell_type": "code",
   "execution_count": 9,
   "metadata": {},
   "outputs": [
    {
     "name": "stderr",
     "output_type": "stream",
     "text": [
      "/opt/conda/lib/python3.6/site-packages/ipykernel_launcher.py:1: UserWarning: Update your `Model` call to the Keras 2 API: `Model(inputs=Tensor(\"in..., outputs=Tensor(\"de...)`\n",
      "  \"\"\"Entry point for launching an IPython kernel.\n"
     ]
    }
   ],
   "source": [
    "model_final = Model(input = model.input, output = predictions)\n",
    "#for layer in model.layers:\n",
    "#    layer.trainable = False"
   ]
  },
  {
   "cell_type": "code",
   "execution_count": 10,
   "metadata": {},
   "outputs": [
    {
     "name": "stdout",
     "output_type": "stream",
     "text": [
      "_________________________________________________________________\n",
      "Layer (type)                 Output Shape              Param #   \n",
      "=================================================================\n",
      "input_1 (InputLayer)         (None, 200, 200, 3)       0         \n",
      "_________________________________________________________________\n",
      "block1_conv1 (Conv2D)        (None, 200, 200, 64)      1792      \n",
      "_________________________________________________________________\n",
      "block1_conv2 (Conv2D)        (None, 200, 200, 64)      36928     \n",
      "_________________________________________________________________\n",
      "block1_pool (MaxPooling2D)   (None, 100, 100, 64)      0         \n",
      "_________________________________________________________________\n",
      "block2_conv1 (Conv2D)        (None, 100, 100, 128)     73856     \n",
      "_________________________________________________________________\n",
      "block2_conv2 (Conv2D)        (None, 100, 100, 128)     147584    \n",
      "_________________________________________________________________\n",
      "block2_pool (MaxPooling2D)   (None, 50, 50, 128)       0         \n",
      "_________________________________________________________________\n",
      "block3_conv1 (Conv2D)        (None, 50, 50, 256)       295168    \n",
      "_________________________________________________________________\n",
      "block3_conv2 (Conv2D)        (None, 50, 50, 256)       590080    \n",
      "_________________________________________________________________\n",
      "block3_conv3 (Conv2D)        (None, 50, 50, 256)       590080    \n",
      "_________________________________________________________________\n",
      "block3_pool (MaxPooling2D)   (None, 25, 25, 256)       0         \n",
      "_________________________________________________________________\n",
      "block4_conv1 (Conv2D)        (None, 25, 25, 512)       1180160   \n",
      "_________________________________________________________________\n",
      "block4_conv2 (Conv2D)        (None, 25, 25, 512)       2359808   \n",
      "_________________________________________________________________\n",
      "block4_conv3 (Conv2D)        (None, 25, 25, 512)       2359808   \n",
      "_________________________________________________________________\n",
      "block4_pool (MaxPooling2D)   (None, 12, 12, 512)       0         \n",
      "_________________________________________________________________\n",
      "block5_conv1 (Conv2D)        (None, 12, 12, 512)       2359808   \n",
      "_________________________________________________________________\n",
      "block5_conv2 (Conv2D)        (None, 12, 12, 512)       2359808   \n",
      "_________________________________________________________________\n",
      "block5_conv3 (Conv2D)        (None, 12, 12, 512)       2359808   \n",
      "_________________________________________________________________\n",
      "block5_pool (MaxPooling2D)   (None, 6, 6, 512)         0         \n",
      "_________________________________________________________________\n",
      "flatten_1 (Flatten)          (None, 18432)             0         \n",
      "_________________________________________________________________\n",
      "dense_1 (Dense)              (None, 1)                 18433     \n",
      "=================================================================\n",
      "Total params: 14,733,121\n",
      "Trainable params: 14,733,121\n",
      "Non-trainable params: 0\n",
      "_________________________________________________________________\n"
     ]
    }
   ],
   "source": [
    "model_final.summary()"
   ]
  },
  {
   "cell_type": "code",
   "execution_count": 11,
   "metadata": {},
   "outputs": [],
   "source": [
    "# compile the model \n",
    "model_final.compile(loss = \"binary_crossentropy\", optimizer = optimizers.RMSprop(lr=2e-5),metrics=[\"acc\"])"
   ]
  },
  {
   "cell_type": "code",
   "execution_count": 12,
   "metadata": {},
   "outputs": [],
   "source": [
    "train_datagen = ImageDataGenerator(\n",
    "    rotation_range=20,\n",
    "    width_shift_range=0.2,\n",
    "    height_shift_range=0.2,\n",
    "    shear_range=0.2,\n",
    "    zoom_range=0.2,\n",
    "    horizontal_flip=True\n",
    "    #fill_mode=\"nearest\"\n",
    "    )"
   ]
  },
  {
   "cell_type": "code",
   "execution_count": 13,
   "metadata": {},
   "outputs": [],
   "source": [
    "# Save the model according to the conditions  \n",
    "callbacks_list = [\n",
    "    ModelCheckpoint(filepath=\"best_reducelr_model.h5\", monitor=\"val_loss\", save_best_only=True)\n",
    "]"
   ]
  },
  {
   "cell_type": "code",
   "execution_count": 14,
   "metadata": {},
   "outputs": [
    {
     "name": "stdout",
     "output_type": "stream",
     "text": [
      "Epoch 1/100\n",
      "33/33 [==============================] - 16s 484ms/step - loss: 0.6282 - acc: 0.6364 - val_loss: 0.5239 - val_acc: 0.7538\n",
      "Epoch 2/100\n",
      "33/33 [==============================] - 12s 354ms/step - loss: 0.5162 - acc: 0.7500 - val_loss: 0.4162 - val_acc: 0.8087\n",
      "Epoch 3/100\n",
      "33/33 [==============================] - 12s 370ms/step - loss: 0.4263 - acc: 0.7992 - val_loss: 0.3873 - val_acc: 0.8428\n",
      "Epoch 4/100\n",
      "33/33 [==============================] - 12s 370ms/step - loss: 0.4249 - acc: 0.7926 - val_loss: 0.3331 - val_acc: 0.8693\n",
      "Epoch 5/100\n",
      "33/33 [==============================] - 12s 371ms/step - loss: 0.3711 - acc: 0.8258 - val_loss: 0.2905 - val_acc: 0.8750\n",
      "Epoch 6/100\n",
      "33/33 [==============================] - 12s 369ms/step - loss: 0.3350 - acc: 0.8475 - val_loss: 0.2801 - val_acc: 0.8996\n",
      "Epoch 7/100\n",
      "33/33 [==============================] - 12s 370ms/step - loss: 0.3141 - acc: 0.8504 - val_loss: 0.2929 - val_acc: 0.8902\n",
      "Epoch 8/100\n",
      "33/33 [==============================] - 12s 368ms/step - loss: 0.2994 - acc: 0.8712 - val_loss: 0.4197 - val_acc: 0.8314\n",
      "Epoch 9/100\n",
      "33/33 [==============================] - 12s 370ms/step - loss: 0.2785 - acc: 0.8883 - val_loss: 0.2850 - val_acc: 0.8939\n",
      "Epoch 10/100\n",
      "33/33 [==============================] - 12s 371ms/step - loss: 0.2898 - acc: 0.8712 - val_loss: 0.2492 - val_acc: 0.8920\n",
      "Epoch 11/100\n",
      "33/33 [==============================] - 12s 373ms/step - loss: 0.2652 - acc: 0.8892 - val_loss: 0.2864 - val_acc: 0.8958\n",
      "Epoch 12/100\n",
      "33/33 [==============================] - 12s 371ms/step - loss: 0.2575 - acc: 0.8826 - val_loss: 0.2530 - val_acc: 0.8958\n",
      "Epoch 13/100\n",
      "33/33 [==============================] - 12s 370ms/step - loss: 0.2197 - acc: 0.9119 - val_loss: 0.2810 - val_acc: 0.8958\n",
      "Epoch 14/100\n",
      "33/33 [==============================] - 12s 371ms/step - loss: 0.2431 - acc: 0.8958 - val_loss: 0.3491 - val_acc: 0.8580\n",
      "Epoch 15/100\n",
      "33/33 [==============================] - 13s 389ms/step - loss: 0.1949 - acc: 0.9176 - val_loss: 0.2507 - val_acc: 0.9072\n",
      "Epoch 16/100\n",
      "33/33 [==============================] - 12s 367ms/step - loss: 0.2089 - acc: 0.9157 - val_loss: 0.2755 - val_acc: 0.8958\n",
      "Epoch 17/100\n",
      "33/33 [==============================] - 12s 368ms/step - loss: 0.2042 - acc: 0.9195 - val_loss: 0.2565 - val_acc: 0.9167\n",
      "Epoch 18/100\n",
      "33/33 [==============================] - 12s 370ms/step - loss: 0.2026 - acc: 0.9119 - val_loss: 0.5004 - val_acc: 0.8163\n",
      "Epoch 19/100\n",
      "33/33 [==============================] - 12s 371ms/step - loss: 0.1737 - acc: 0.9290 - val_loss: 0.2449 - val_acc: 0.9129\n",
      "Epoch 20/100\n",
      "33/33 [==============================] - 12s 373ms/step - loss: 0.1950 - acc: 0.9167 - val_loss: 0.2359 - val_acc: 0.9129\n",
      "Epoch 21/100\n",
      "33/33 [==============================] - 12s 368ms/step - loss: 0.1577 - acc: 0.9384 - val_loss: 0.4385 - val_acc: 0.8466\n",
      "Epoch 22/100\n",
      "33/33 [==============================] - 12s 371ms/step - loss: 0.1789 - acc: 0.9205 - val_loss: 0.4900 - val_acc: 0.8333\n",
      "Epoch 23/100\n",
      "33/33 [==============================] - 12s 368ms/step - loss: 0.1662 - acc: 0.9337 - val_loss: 0.2937 - val_acc: 0.8939\n",
      "Epoch 24/100\n",
      "33/33 [==============================] - 12s 370ms/step - loss: 0.1807 - acc: 0.9280 - val_loss: 0.2958 - val_acc: 0.8977\n",
      "Epoch 25/100\n",
      "33/33 [==============================] - 12s 372ms/step - loss: 0.1490 - acc: 0.9413 - val_loss: 0.4328 - val_acc: 0.8466\n",
      "Epoch 26/100\n",
      "33/33 [==============================] - 12s 370ms/step - loss: 0.1263 - acc: 0.9451 - val_loss: 0.3165 - val_acc: 0.8920\n",
      "Epoch 27/100\n",
      "33/33 [==============================] - 12s 371ms/step - loss: 0.1249 - acc: 0.9602 - val_loss: 0.3223 - val_acc: 0.9091\n",
      "Epoch 28/100\n",
      "33/33 [==============================] - 12s 370ms/step - loss: 0.1584 - acc: 0.9470 - val_loss: 0.2422 - val_acc: 0.9318\n",
      "Epoch 29/100\n",
      "33/33 [==============================] - 12s 372ms/step - loss: 0.1120 - acc: 0.9564 - val_loss: 0.2388 - val_acc: 0.9205\n",
      "Epoch 30/100\n",
      "33/33 [==============================] - 12s 370ms/step - loss: 0.1242 - acc: 0.9527 - val_loss: 0.2890 - val_acc: 0.8902\n",
      "Epoch 31/100\n",
      "33/33 [==============================] - 12s 369ms/step - loss: 0.1277 - acc: 0.9432 - val_loss: 0.2412 - val_acc: 0.9110\n",
      "Epoch 32/100\n",
      "33/33 [==============================] - 12s 369ms/step - loss: 0.1069 - acc: 0.9545 - val_loss: 0.5270 - val_acc: 0.8447\n",
      "Epoch 33/100\n",
      "33/33 [==============================] - 12s 371ms/step - loss: 0.1018 - acc: 0.9612 - val_loss: 0.2515 - val_acc: 0.9186\n",
      "Epoch 34/100\n",
      "33/33 [==============================] - 12s 370ms/step - loss: 0.1246 - acc: 0.9451 - val_loss: 0.2194 - val_acc: 0.9337\n",
      "Epoch 35/100\n",
      "33/33 [==============================] - 12s 367ms/step - loss: 0.0693 - acc: 0.9782 - val_loss: 0.2688 - val_acc: 0.9205\n",
      "Epoch 36/100\n",
      "33/33 [==============================] - 12s 371ms/step - loss: 0.1191 - acc: 0.9583 - val_loss: 0.2386 - val_acc: 0.9223\n",
      "Epoch 37/100\n",
      "33/33 [==============================] - 12s 369ms/step - loss: 0.1027 - acc: 0.9555 - val_loss: 0.4017 - val_acc: 0.8693\n",
      "Epoch 38/100\n",
      "33/33 [==============================] - 12s 369ms/step - loss: 0.1057 - acc: 0.9621 - val_loss: 0.2736 - val_acc: 0.9205\n",
      "Epoch 39/100\n",
      "33/33 [==============================] - 12s 370ms/step - loss: 0.0730 - acc: 0.9754 - val_loss: 0.3177 - val_acc: 0.9205\n",
      "Epoch 40/100\n",
      "33/33 [==============================] - 13s 393ms/step - loss: 0.1099 - acc: 0.9555 - val_loss: 0.2808 - val_acc: 0.9148\n",
      "Epoch 41/100\n",
      "33/33 [==============================] - 12s 371ms/step - loss: 0.1084 - acc: 0.9621 - val_loss: 0.2617 - val_acc: 0.9261\n",
      "Epoch 42/100\n",
      "33/33 [==============================] - 12s 371ms/step - loss: 0.0726 - acc: 0.9735 - val_loss: 0.3748 - val_acc: 0.9091\n",
      "Epoch 43/100\n",
      "33/33 [==============================] - 12s 369ms/step - loss: 0.0889 - acc: 0.9612 - val_loss: 0.2785 - val_acc: 0.9280\n",
      "Epoch 44/100\n",
      "33/33 [==============================] - 12s 372ms/step - loss: 0.0571 - acc: 0.9773 - val_loss: 0.2940 - val_acc: 0.9186\n",
      "Epoch 45/100\n",
      "33/33 [==============================] - 12s 371ms/step - loss: 0.0816 - acc: 0.9669 - val_loss: 0.3051 - val_acc: 0.9186\n",
      "Epoch 46/100\n",
      "33/33 [==============================] - 12s 370ms/step - loss: 0.0578 - acc: 0.9782 - val_loss: 0.3133 - val_acc: 0.9110\n",
      "Epoch 47/100\n",
      "33/33 [==============================] - 12s 371ms/step - loss: 0.0846 - acc: 0.9725 - val_loss: 0.3755 - val_acc: 0.9091\n",
      "Epoch 48/100\n",
      "33/33 [==============================] - 12s 370ms/step - loss: 0.0734 - acc: 0.9744 - val_loss: 0.2928 - val_acc: 0.8977\n",
      "Epoch 49/100\n",
      "33/33 [==============================] - 12s 370ms/step - loss: 0.0641 - acc: 0.9782 - val_loss: 0.3626 - val_acc: 0.9223\n",
      "Epoch 50/100\n",
      "33/33 [==============================] - 12s 369ms/step - loss: 0.0773 - acc: 0.9735 - val_loss: 0.2876 - val_acc: 0.9205\n",
      "Epoch 51/100\n",
      "33/33 [==============================] - 12s 372ms/step - loss: 0.0487 - acc: 0.9811 - val_loss: 0.4595 - val_acc: 0.9034\n",
      "Epoch 52/100\n",
      "33/33 [==============================] - 12s 370ms/step - loss: 0.0878 - acc: 0.9706 - val_loss: 0.4095 - val_acc: 0.8883\n",
      "Epoch 53/100\n",
      "33/33 [==============================] - 12s 369ms/step - loss: 0.0600 - acc: 0.9811 - val_loss: 0.3669 - val_acc: 0.9242\n",
      "Epoch 54/100\n",
      "33/33 [==============================] - 12s 369ms/step - loss: 0.0601 - acc: 0.9763 - val_loss: 0.2949 - val_acc: 0.9167\n",
      "Epoch 55/100\n",
      "33/33 [==============================] - 12s 371ms/step - loss: 0.0609 - acc: 0.9744 - val_loss: 0.2863 - val_acc: 0.9186\n",
      "Epoch 56/100\n",
      "33/33 [==============================] - 12s 369ms/step - loss: 0.0511 - acc: 0.9848 - val_loss: 0.3560 - val_acc: 0.9186\n",
      "Epoch 57/100\n",
      "33/33 [==============================] - 12s 370ms/step - loss: 0.0489 - acc: 0.9801 - val_loss: 0.3341 - val_acc: 0.9091\n",
      "Epoch 58/100\n",
      "33/33 [==============================] - 12s 369ms/step - loss: 0.0577 - acc: 0.9782 - val_loss: 0.4022 - val_acc: 0.9129\n",
      "Epoch 59/100\n",
      "33/33 [==============================] - 12s 371ms/step - loss: 0.0449 - acc: 0.9848 - val_loss: 0.3168 - val_acc: 0.9223\n",
      "Epoch 60/100\n",
      "33/33 [==============================] - 12s 369ms/step - loss: 0.0636 - acc: 0.9782 - val_loss: 0.2679 - val_acc: 0.9261\n",
      "Epoch 61/100\n",
      "33/33 [==============================] - 12s 370ms/step - loss: 0.0612 - acc: 0.9811 - val_loss: 0.3255 - val_acc: 0.9205\n",
      "Epoch 62/100\n",
      "33/33 [==============================] - 12s 369ms/step - loss: 0.0415 - acc: 0.9858 - val_loss: 0.4174 - val_acc: 0.9034\n",
      "Epoch 63/100\n",
      "33/33 [==============================] - 12s 369ms/step - loss: 0.0386 - acc: 0.9858 - val_loss: 0.5463 - val_acc: 0.8977\n",
      "Epoch 64/100\n",
      "33/33 [==============================] - 12s 370ms/step - loss: 0.0610 - acc: 0.9773 - val_loss: 0.3474 - val_acc: 0.9205\n",
      "Epoch 65/100\n",
      "33/33 [==============================] - 13s 388ms/step - loss: 0.0701 - acc: 0.9801 - val_loss: 0.2941 - val_acc: 0.9186\n",
      "Epoch 66/100\n",
      "33/33 [==============================] - 12s 368ms/step - loss: 0.0464 - acc: 0.9820 - val_loss: 0.2954 - val_acc: 0.9299\n",
      "Epoch 67/100\n",
      "33/33 [==============================] - 12s 371ms/step - loss: 0.0429 - acc: 0.9858 - val_loss: 0.3970 - val_acc: 0.9205\n",
      "Epoch 68/100\n",
      "33/33 [==============================] - 12s 369ms/step - loss: 0.0601 - acc: 0.9830 - val_loss: 0.3818 - val_acc: 0.9072\n",
      "Epoch 69/100\n",
      "33/33 [==============================] - 12s 370ms/step - loss: 0.0388 - acc: 0.9820 - val_loss: 0.5697 - val_acc: 0.8939\n",
      "Epoch 70/100\n",
      "33/33 [==============================] - 12s 370ms/step - loss: 0.0464 - acc: 0.9867 - val_loss: 0.3238 - val_acc: 0.9186\n",
      "Epoch 71/100\n",
      "33/33 [==============================] - 12s 370ms/step - loss: 0.0352 - acc: 0.9886 - val_loss: 0.5200 - val_acc: 0.8845\n",
      "Epoch 72/100\n",
      "33/33 [==============================] - 12s 371ms/step - loss: 0.0478 - acc: 0.9839 - val_loss: 0.5886 - val_acc: 0.8712\n",
      "Epoch 73/100\n",
      "33/33 [==============================] - 12s 371ms/step - loss: 0.0554 - acc: 0.9811 - val_loss: 0.3075 - val_acc: 0.9205\n",
      "Epoch 74/100\n",
      "33/33 [==============================] - 12s 370ms/step - loss: 0.0314 - acc: 0.9896 - val_loss: 0.5089 - val_acc: 0.8883\n",
      "Epoch 75/100\n",
      "33/33 [==============================] - 12s 372ms/step - loss: 0.0352 - acc: 0.9867 - val_loss: 0.4281 - val_acc: 0.9034\n",
      "Epoch 76/100\n",
      "33/33 [==============================] - 12s 370ms/step - loss: 0.0305 - acc: 0.9877 - val_loss: 0.4518 - val_acc: 0.9110\n",
      "Epoch 77/100\n",
      "33/33 [==============================] - 12s 369ms/step - loss: 0.0647 - acc: 0.9763 - val_loss: 0.3911 - val_acc: 0.9072\n",
      "Epoch 78/100\n",
      "33/33 [==============================] - 12s 371ms/step - loss: 0.0194 - acc: 0.9924 - val_loss: 0.4840 - val_acc: 0.8939\n",
      "Epoch 79/100\n",
      "33/33 [==============================] - 12s 372ms/step - loss: 0.0522 - acc: 0.9782 - val_loss: 0.3012 - val_acc: 0.9299\n",
      "Epoch 80/100\n",
      "33/33 [==============================] - 12s 368ms/step - loss: 0.0184 - acc: 0.9934 - val_loss: 0.4524 - val_acc: 0.9167\n",
      "Epoch 81/100\n",
      "33/33 [==============================] - 12s 370ms/step - loss: 0.0554 - acc: 0.9877 - val_loss: 0.3619 - val_acc: 0.9337\n",
      "Epoch 82/100\n",
      "33/33 [==============================] - 12s 371ms/step - loss: 0.0491 - acc: 0.9820 - val_loss: 0.4197 - val_acc: 0.9148\n",
      "Epoch 83/100\n",
      "33/33 [==============================] - 12s 371ms/step - loss: 0.0297 - acc: 0.9915 - val_loss: 0.3323 - val_acc: 0.9148\n",
      "Epoch 84/100\n",
      "33/33 [==============================] - 12s 370ms/step - loss: 0.0381 - acc: 0.9858 - val_loss: 0.4836 - val_acc: 0.9148\n",
      "Epoch 85/100\n",
      "33/33 [==============================] - 12s 372ms/step - loss: 0.0348 - acc: 0.9877 - val_loss: 0.3635 - val_acc: 0.9110\n",
      "Epoch 86/100\n",
      "33/33 [==============================] - 12s 370ms/step - loss: 0.0359 - acc: 0.9848 - val_loss: 0.4210 - val_acc: 0.9110\n",
      "Epoch 87/100\n",
      "33/33 [==============================] - 12s 372ms/step - loss: 0.0117 - acc: 0.9981 - val_loss: 0.9429 - val_acc: 0.8617\n",
      "Epoch 88/100\n",
      "33/33 [==============================] - 12s 372ms/step - loss: 0.0582 - acc: 0.9754 - val_loss: 0.3534 - val_acc: 0.9318\n",
      "Epoch 89/100\n",
      "33/33 [==============================] - 13s 386ms/step - loss: 0.0224 - acc: 0.9924 - val_loss: 0.3694 - val_acc: 0.9205\n",
      "Epoch 90/100\n",
      "33/33 [==============================] - 12s 374ms/step - loss: 0.0276 - acc: 0.9915 - val_loss: 0.4886 - val_acc: 0.9034\n",
      "Epoch 91/100\n",
      "33/33 [==============================] - 12s 371ms/step - loss: 0.0178 - acc: 0.9943 - val_loss: 0.5326 - val_acc: 0.9205\n",
      "Epoch 92/100\n",
      "33/33 [==============================] - 12s 365ms/step - loss: 0.0328 - acc: 0.9877 - val_loss: 0.7589 - val_acc: 0.8769\n",
      "Epoch 93/100\n",
      "33/33 [==============================] - 12s 370ms/step - loss: 0.0352 - acc: 0.9896 - val_loss: 0.4408 - val_acc: 0.9223\n",
      "Epoch 94/100\n",
      "33/33 [==============================] - 12s 371ms/step - loss: 0.0602 - acc: 0.9830 - val_loss: 0.4392 - val_acc: 0.9280\n",
      "Epoch 95/100\n",
      "33/33 [==============================] - 12s 369ms/step - loss: 0.0307 - acc: 0.9886 - val_loss: 0.5092 - val_acc: 0.9110\n",
      "Epoch 96/100\n",
      "33/33 [==============================] - 12s 370ms/step - loss: 0.0352 - acc: 0.9905 - val_loss: 0.3696 - val_acc: 0.9299\n",
      "Epoch 97/100\n",
      "33/33 [==============================] - 12s 372ms/step - loss: 0.0254 - acc: 0.9896 - val_loss: 0.3425 - val_acc: 0.9091\n",
      "Epoch 98/100\n",
      "33/33 [==============================] - 12s 370ms/step - loss: 0.0187 - acc: 0.9934 - val_loss: 0.5218 - val_acc: 0.9242\n",
      "Epoch 99/100\n",
      "33/33 [==============================] - 12s 372ms/step - loss: 0.0453 - acc: 0.9858 - val_loss: 0.4439 - val_acc: 0.9186\n",
      "Epoch 100/100\n",
      "33/33 [==============================] - 12s 370ms/step - loss: 0.0518 - acc: 0.9867 - val_loss: 0.4617 - val_acc: 0.9129\n"
     ]
    }
   ],
   "source": [
    "H = model_final.fit_generator(\n",
    "train_datagen.flow(trainX, trainY, batch_size=32),\n",
    "    validation_data=(testX, testY),\n",
    "    steps_per_epoch=len(trainX) // 64,\n",
    "    epochs=100,\n",
    "    callbacks = callbacks_list)"
   ]
  },
  {
   "cell_type": "code",
   "execution_count": 15,
   "metadata": {},
   "outputs": [
    {
     "data": {
      "text/plain": [
       "<Figure size 432x288 with 0 Axes>"
      ]
     },
     "execution_count": 15,
     "metadata": {},
     "output_type": "execute_result"
    },
    {
     "data": {
      "image/png": "[encoded data removed]",
      "text/plain": [
       "<Figure size 432x288 with 1 Axes>"
      ]
     },
     "metadata": {
      "needs_background": "light"
     },
     "output_type": "display_data"
    },
    {
     "data": {
      "image/png": "[encoded data removed]",
      "text/plain": [
       "<Figure size 432x288 with 1 Axes>"
      ]
     },
     "metadata": {
      "needs_background": "light"
     },
     "output_type": "display_data"
    },
    {
     "data": {
      "text/plain": [
       "<Figure size 432x288 with 0 Axes>"
      ]
     },
     "metadata": {},
     "output_type": "display_data"
    }
   ],
   "source": [
    "%matplotlib inline\n",
    "\n",
    "import matplotlib.image  as mpimg\n",
    "import matplotlib.pyplot as plt\n",
    "\n",
    "acc=H.history['acc']\n",
    "val_acc=H.history['val_acc']\n",
    "loss=H.history['loss']\n",
    "val_loss=H.history['val_loss']\n",
    "\n",
    "epochs=range(len(acc))\n",
    "\n",
    "plt.plot(epochs, acc, 'r', \"Training Accuracy\")\n",
    "plt.plot(epochs, val_acc, 'b', \"Validation Accuracy\")\n",
    "plt.title('Training and validation accuracy')\n",
    "plt.figure()\n",
    "\n",
    "plt.plot(epochs, loss, 'r', \"Training Loss\")\n",
    "plt.plot(epochs, val_loss, 'b', \"Validation Loss\")\n",
    "plt.figure()"
   ]
  },
  {
   "cell_type": "code",
   "execution_count": 16,
   "metadata": {},
   "outputs": [
    {
     "name": "stdout",
     "output_type": "stream",
     "text": [
      "[[0.11718481]]\n",
      "[0.11718481]\n",
      "2312.gif is a men\n"
     ]
    }
   ],
   "source": [
    "import numpy as np\n",
    "from keras.preprocessing import image\n",
    "fn = '2312.gif'\n",
    "path = '../input/healthsignzgenderclassification/data/Testing Set/' + fn\n",
    "if not fn.endswith('gif'): \n",
    "    curr_img = cv2.imread(path)\n",
    "    curr_img = cv2.resize(curr_img, size)\n",
    "else:\n",
    "    curr_img = load_img(path, target_size=size)\n",
    "    curr_img = img_to_array(curr_img)\n",
    "images = np.array(curr_img, dtype = 'float32')\n",
    "images = np.array(curr_img) / 255.0\n",
    "images = np.array(images).reshape(-1, 200,200,3)\n",
    "classes = model_final.predict(images, batch_size=32)\n",
    "print(classes)\n",
    "print(classes[0])\n",
    "if classes[0]>0.5:\n",
    "    print(fn + \" is a women\")\n",
    "else:\n",
    "    print(fn + \" is a men\")"
   ]
  },
  {
   "cell_type": "code",
   "execution_count": 17,
   "metadata": {},
   "outputs": [],
   "source": [
    "#model = resnet50.ResNet50(weights= None, include_top=False, input_shape= (200,200,3))"
   ]
  },
  {
   "cell_type": "code",
   "execution_count": null,
   "metadata": {},
   "outputs": [],
   "source": []
  }
 ],
 "metadata": {
  "kernelspec": {
   "display_name": "Python 3",
   "language": "python",
   "name": "python3"
  },
  "language_info": {
   "codemirror_mode": {
    "name": "ipython",
    "version": 3
   },
   "file_extension": ".py",
   "mimetype": "text/x-python",
   "name": "python",
   "nbconvert_exporter": "python",
   "pygments_lexer": "ipython3",
   "version": "3.6.6"
  }
 },
 "nbformat": 4,
 "nbformat_minor": 1
}
